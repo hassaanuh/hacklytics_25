{
  "cells": [
    {
      "cell_type": "code",
      "execution_count": null,
      "metadata": {
        "colab": {
          "base_uri": "https://localhost:8080/"
        },
        "id": "8a0awj1-U9pe",
        "outputId": "2e31eee9-2be3-4d7c-dcd4-22764daefeb7"
      },
      "outputs": [
        {
          "name": "stdout",
          "output_type": "stream",
          "text": [
            "Collecting pyod\n",
            "  Downloading pyod-2.0.3.tar.gz (169 kB)\n",
            "\u001b[?25l     \u001b[90m━━━━━━━━━━━━━━━━━━━━━━━━━━━━━━━━━━━━━━━━\u001b[0m \u001b[32m0.0/169.6 kB\u001b[0m \u001b[31m?\u001b[0m eta \u001b[36m-:--:--\u001b[0m\r\u001b[2K     \u001b[91m━━━━━━━━━━━━━━━━━━━━━━━━━━━━━━━━━━━━━━\u001b[0m\u001b[91m╸\u001b[0m\u001b[90m━\u001b[0m \u001b[32m163.8/169.6 kB\u001b[0m \u001b[31m5.3 MB/s\u001b[0m eta \u001b[36m0:00:01\u001b[0m\r\u001b[2K     \u001b[90m━━━━━━━━━━━━━━━━━━━━━━━━━━━━━━━━━━━━━━━━\u001b[0m \u001b[32m169.6/169.6 kB\u001b[0m \u001b[31m3.7 MB/s\u001b[0m eta \u001b[36m0:00:00\u001b[0m\n",
            "\u001b[?25h  Preparing metadata (setup.py) ... \u001b[?25l\u001b[?25hdone\n",
            "Requirement already satisfied: joblib in /usr/local/lib/python3.11/dist-packages (from pyod) (1.4.2)\n",
            "Requirement already satisfied: matplotlib in /usr/local/lib/python3.11/dist-packages (from pyod) (3.10.0)\n",
            "Requirement already satisfied: numpy>=1.19 in /usr/local/lib/python3.11/dist-packages (from pyod) (1.26.4)\n",
            "Requirement already satisfied: numba>=0.51 in /usr/local/lib/python3.11/dist-packages (from pyod) (0.61.0)\n",
            "Requirement already satisfied: scipy>=1.5.1 in /usr/local/lib/python3.11/dist-packages (from pyod) (1.13.1)\n",
            "Requirement already satisfied: scikit-learn>=0.22.0 in /usr/local/lib/python3.11/dist-packages (from pyod) (1.6.1)\n",
            "Requirement already satisfied: llvmlite<0.45,>=0.44.0dev0 in /usr/local/lib/python3.11/dist-packages (from numba>=0.51->pyod) (0.44.0)\n",
            "Requirement already satisfied: threadpoolctl>=3.1.0 in /usr/local/lib/python3.11/dist-packages (from scikit-learn>=0.22.0->pyod) (3.5.0)\n",
            "Requirement already satisfied: contourpy>=1.0.1 in /usr/local/lib/python3.11/dist-packages (from matplotlib->pyod) (1.3.1)\n",
            "Requirement already satisfied: cycler>=0.10 in /usr/local/lib/python3.11/dist-packages (from matplotlib->pyod) (0.12.1)\n",
            "Requirement already satisfied: fonttools>=4.22.0 in /usr/local/lib/python3.11/dist-packages (from matplotlib->pyod) (4.56.0)\n",
            "Requirement already satisfied: kiwisolver>=1.3.1 in /usr/local/lib/python3.11/dist-packages (from matplotlib->pyod) (1.4.8)\n",
            "Requirement already satisfied: packaging>=20.0 in /usr/local/lib/python3.11/dist-packages (from matplotlib->pyod) (24.2)\n",
            "Requirement already satisfied: pillow>=8 in /usr/local/lib/python3.11/dist-packages (from matplotlib->pyod) (11.1.0)\n",
            "Requirement already satisfied: pyparsing>=2.3.1 in /usr/local/lib/python3.11/dist-packages (from matplotlib->pyod) (3.2.1)\n",
            "Requirement already satisfied: python-dateutil>=2.7 in /usr/local/lib/python3.11/dist-packages (from matplotlib->pyod) (2.8.2)\n",
            "Requirement already satisfied: six>=1.5 in /usr/local/lib/python3.11/dist-packages (from python-dateutil>=2.7->matplotlib->pyod) (1.17.0)\n",
            "Building wheels for collected packages: pyod\n",
            "  Building wheel for pyod (setup.py) ... \u001b[?25l\u001b[?25hdone\n",
            "  Created wheel for pyod: filename=pyod-2.0.3-py3-none-any.whl size=200466 sha256=81dd21a3d075d9dbef024e9295c21e40d851ae163e33715a7fa2c50aa3052dde\n",
            "  Stored in directory: /root/.cache/pip/wheels/2d/60/5b/f74eccd2c9c892a2c298202ca510f10995f9940647fcc2d97f\n",
            "Successfully built pyod\n",
            "Installing collected packages: pyod\n",
            "Successfully installed pyod-2.0.3\n"
          ]
        }
      ],
      "source": [
        "\n",
        "!pip install pyod"
      ]
    },
    {
      "cell_type": "code",
      "execution_count": null,
      "metadata": {
        "id": "YxFmsjurU9mI"
      },
      "outputs": [],
      "source": [
        "import yfinance as yf\n",
        "import pandas as pd\n",
        "from scipy.stats import zscore"
      ]
    },
    {
      "cell_type": "code",
      "execution_count": 27,
      "metadata": {
        "id": "EqlasTeOU9KU"
      },
      "outputs": [],
      "source": [
        "# Preprocess data\n",
        "def preprocess_data(data):\n",
        "    # Calculate daily returns based on 'Close' prices\n",
        "    data['Returns'] = data['Close'].pct_change()\n",
        "\n",
        "    # Calculate Z-scores for returns\n",
        "    data['Z-Score'] = zscore(data['Returns'], nan_policy='omit')\n",
        "\n",
        "    return data.dropna()  # Drop NaN values caused by pct_change()\n"
      ]
    },
    {
      "cell_type": "code",
      "execution_count": 28,
      "metadata": {
        "id": "t21Be4eCU9G_"
      },
      "outputs": [],
      "source": [
        "# Example usage\n",
        "ticker_symbol = \"AAPL\"\n",
        "\n",
        "# Create a Ticker object\n",
        "ticker = yf.Ticker(ticker_symbol)\n",
        "\n",
        "# Fetch historical market data\n",
        "historical_data = ticker.history(period=\"5y\")"
      ]
    },
    {
      "cell_type": "code",
      "execution_count": 25,
      "metadata": {
        "colab": {
          "base_uri": "https://localhost:8080/",
          "height": 237
        },
        "id": "O-yKJ4MOiIMH",
        "outputId": "45848d8a-9741-4e32-de89-98d879596e93"
      },
      "outputs": [
        {
          "data": {
            "application/vnd.google.colaboratory.intrinsic+json": {
              "summary": "{\n  \"name\": \"historical_data\",\n  \"rows\": 1257,\n  \"fields\": [\n    {\n      \"column\": \"Date\",\n      \"properties\": {\n        \"dtype\": \"date\",\n        \"min\": \"2020-02-24 00:00:00-05:00\",\n        \"max\": \"2025-02-21 00:00:00-05:00\",\n        \"num_unique_values\": 1257,\n        \"samples\": [\n          \"2021-11-11 00:00:00-05:00\",\n          \"2020-07-17 00:00:00-04:00\",\n          \"2020-05-06 00:00:00-04:00\"\n        ],\n        \"semantic_type\": \"\",\n        \"description\": \"\"\n      }\n    },\n    {\n      \"column\": \"Open\",\n      \"properties\": {\n        \"dtype\": \"number\",\n        \"std\": 42.13953138574054,\n        \"min\": 55.350238679238295,\n        \"max\": 257.90642916266114,\n        \"num_unique_values\": 1257,\n        \"samples\": [\n          146.39829267733833,\n          94.40219140138757,\n          72.91533768168664\n        ],\n        \"semantic_type\": \"\",\n        \"description\": \"\"\n      }\n    },\n    {\n      \"column\": \"High\",\n      \"properties\": {\n        \"dtype\": \"number\",\n        \"std\": 42.34382153166652,\n        \"min\": 55.45216343682044,\n        \"max\": 259.81433504408284,\n        \"num_unique_values\": 1257,\n        \"samples\": [\n          146.86019613669237,\n          94.55792255878987,\n          73.58998507405805\n        ],\n        \"semantic_type\": \"\",\n        \"description\": \"\"\n      }\n    },\n    {\n      \"column\": \"Low\",\n      \"properties\": {\n        \"dtype\": \"number\",\n        \"std\": 41.97232321567929,\n        \"min\": 51.59599344484774,\n        \"max\": 257.34704665632455,\n        \"num_unique_values\": 1257,\n        \"samples\": [\n          145.14029146001317,\n          93.28527277756179,\n          72.52947892116252\n        ],\n        \"semantic_type\": \"\",\n        \"description\": \"\"\n      }\n    },\n    {\n      \"column\": \"Close\",\n      \"properties\": {\n        \"dtype\": \"number\",\n        \"std\": 42.20597401589296,\n        \"min\": 54.44989776611328,\n        \"max\": 258.7355041503906,\n        \"num_unique_values\": 1242,\n        \"samples\": [\n          173.63735961914062,\n          168.32518005371094,\n          143.1256866455078\n        ],\n        \"semantic_type\": \"\",\n        \"description\": \"\"\n      }\n    },\n    {\n      \"column\": \"Volume\",\n      \"properties\": {\n        \"dtype\": \"number\",\n        \"std\": 53018216,\n        \"min\": 23234700,\n        \"max\": 426510000,\n        \"num_unique_values\": 1255,\n        \"samples\": [\n          90152800,\n          92186800,\n          142333600\n        ],\n        \"semantic_type\": \"\",\n        \"description\": \"\"\n      }\n    },\n    {\n      \"column\": \"Dividends\",\n      \"properties\": {\n        \"dtype\": \"number\",\n        \"std\": 0.028734069678830573,\n        \"min\": 0.0,\n        \"max\": 0.25,\n        \"num_unique_values\": 6,\n        \"samples\": [\n          0.0,\n          0.205,\n          0.25\n        ],\n        \"semantic_type\": \"\",\n        \"description\": \"\"\n      }\n    },\n    {\n      \"column\": \"Stock Splits\",\n      \"properties\": {\n        \"dtype\": \"number\",\n        \"std\": 0.1128216254653052,\n        \"min\": 0.0,\n        \"max\": 4.0,\n        \"num_unique_values\": 2,\n        \"samples\": [\n          4.0,\n          0.0\n        ],\n        \"semantic_type\": \"\",\n        \"description\": \"\"\n      }\n    }\n  ]\n}",
              "type": "dataframe",
              "variable_name": "historical_data"
            },
            "text/html": [
              "\n",
              "  <div id=\"df-c36a17b5-60a5-44da-a757-d2b211c3e37c\" class=\"colab-df-container\">\n",
              "    <div>\n",
              "<style scoped>\n",
              "    .dataframe tbody tr th:only-of-type {\n",
              "        vertical-align: middle;\n",
              "    }\n",
              "\n",
              "    .dataframe tbody tr th {\n",
              "        vertical-align: top;\n",
              "    }\n",
              "\n",
              "    .dataframe thead th {\n",
              "        text-align: right;\n",
              "    }\n",
              "</style>\n",
              "<table border=\"1\" class=\"dataframe\">\n",
              "  <thead>\n",
              "    <tr style=\"text-align: right;\">\n",
              "      <th></th>\n",
              "      <th>Open</th>\n",
              "      <th>High</th>\n",
              "      <th>Low</th>\n",
              "      <th>Close</th>\n",
              "      <th>Volume</th>\n",
              "      <th>Dividends</th>\n",
              "      <th>Stock Splits</th>\n",
              "    </tr>\n",
              "    <tr>\n",
              "      <th>Date</th>\n",
              "      <th></th>\n",
              "      <th></th>\n",
              "      <th></th>\n",
              "      <th></th>\n",
              "      <th></th>\n",
              "      <th></th>\n",
              "      <th></th>\n",
              "    </tr>\n",
              "  </thead>\n",
              "  <tbody>\n",
              "    <tr>\n",
              "      <th>2020-02-24 00:00:00-05:00</th>\n",
              "      <td>72.138762</td>\n",
              "      <td>73.818096</td>\n",
              "      <td>70.190050</td>\n",
              "      <td>72.362022</td>\n",
              "      <td>222195200</td>\n",
              "      <td>0.0</td>\n",
              "      <td>0.0</td>\n",
              "    </tr>\n",
              "    <tr>\n",
              "      <th>2020-02-25 00:00:00-05:00</th>\n",
              "      <td>73.034250</td>\n",
              "      <td>73.417680</td>\n",
              "      <td>69.437745</td>\n",
              "      <td>69.910965</td>\n",
              "      <td>230673600</td>\n",
              "      <td>0.0</td>\n",
              "      <td>0.0</td>\n",
              "    </tr>\n",
              "    <tr>\n",
              "      <th>2020-02-26 00:00:00-05:00</th>\n",
              "      <td>69.534818</td>\n",
              "      <td>72.289226</td>\n",
              "      <td>69.527537</td>\n",
              "      <td>71.020012</td>\n",
              "      <td>198054800</td>\n",
              "      <td>0.0</td>\n",
              "      <td>0.0</td>\n",
              "    </tr>\n",
              "    <tr>\n",
              "      <th>2020-02-27 00:00:00-05:00</th>\n",
              "      <td>68.217082</td>\n",
              "      <td>69.406208</td>\n",
              "      <td>66.241671</td>\n",
              "      <td>66.377571</td>\n",
              "      <td>320605600</td>\n",
              "      <td>0.0</td>\n",
              "      <td>0.0</td>\n",
              "    </tr>\n",
              "    <tr>\n",
              "      <th>2020-02-28 00:00:00-05:00</th>\n",
              "      <td>62.431604</td>\n",
              "      <td>67.564263</td>\n",
              "      <td>62.215616</td>\n",
              "      <td>66.338730</td>\n",
              "      <td>426510000</td>\n",
              "      <td>0.0</td>\n",
              "      <td>0.0</td>\n",
              "    </tr>\n",
              "  </tbody>\n",
              "</table>\n",
              "</div>\n",
              "    <div class=\"colab-df-buttons\">\n",
              "\n",
              "  <div class=\"colab-df-container\">\n",
              "    <button class=\"colab-df-convert\" onclick=\"convertToInteractive('df-c36a17b5-60a5-44da-a757-d2b211c3e37c')\"\n",
              "            title=\"Convert this dataframe to an interactive table.\"\n",
              "            style=\"display:none;\">\n",
              "\n",
              "  <svg xmlns=\"http://www.w3.org/2000/svg\" height=\"24px\" viewBox=\"0 -960 960 960\">\n",
              "    <path d=\"M120-120v-720h720v720H120Zm60-500h600v-160H180v160Zm220 220h160v-160H400v160Zm0 220h160v-160H400v160ZM180-400h160v-160H180v160Zm440 0h160v-160H620v160ZM180-180h160v-160H180v160Zm440 0h160v-160H620v160Z\"/>\n",
              "  </svg>\n",
              "    </button>\n",
              "\n",
              "  <style>\n",
              "    .colab-df-container {\n",
              "      display:flex;\n",
              "      gap: 12px;\n",
              "    }\n",
              "\n",
              "    .colab-df-convert {\n",
              "      background-color: #E8F0FE;\n",
              "      border: none;\n",
              "      border-radius: 50%;\n",
              "      cursor: pointer;\n",
              "      display: none;\n",
              "      fill: #1967D2;\n",
              "      height: 32px;\n",
              "      padding: 0 0 0 0;\n",
              "      width: 32px;\n",
              "    }\n",
              "\n",
              "    .colab-df-convert:hover {\n",
              "      background-color: #E2EBFA;\n",
              "      box-shadow: 0px 1px 2px rgba(60, 64, 67, 0.3), 0px 1px 3px 1px rgba(60, 64, 67, 0.15);\n",
              "      fill: #174EA6;\n",
              "    }\n",
              "\n",
              "    .colab-df-buttons div {\n",
              "      margin-bottom: 4px;\n",
              "    }\n",
              "\n",
              "    [theme=dark] .colab-df-convert {\n",
              "      background-color: #3B4455;\n",
              "      fill: #D2E3FC;\n",
              "    }\n",
              "\n",
              "    [theme=dark] .colab-df-convert:hover {\n",
              "      background-color: #434B5C;\n",
              "      box-shadow: 0px 1px 3px 1px rgba(0, 0, 0, 0.15);\n",
              "      filter: drop-shadow(0px 1px 2px rgba(0, 0, 0, 0.3));\n",
              "      fill: #FFFFFF;\n",
              "    }\n",
              "  </style>\n",
              "\n",
              "    <script>\n",
              "      const buttonEl =\n",
              "        document.querySelector('#df-c36a17b5-60a5-44da-a757-d2b211c3e37c button.colab-df-convert');\n",
              "      buttonEl.style.display =\n",
              "        google.colab.kernel.accessAllowed ? 'block' : 'none';\n",
              "\n",
              "      async function convertToInteractive(key) {\n",
              "        const element = document.querySelector('#df-c36a17b5-60a5-44da-a757-d2b211c3e37c');\n",
              "        const dataTable =\n",
              "          await google.colab.kernel.invokeFunction('convertToInteractive',\n",
              "                                                    [key], {});\n",
              "        if (!dataTable) return;\n",
              "\n",
              "        const docLinkHtml = 'Like what you see? Visit the ' +\n",
              "          '<a target=\"_blank\" href=https://colab.research.google.com/notebooks/data_table.ipynb>data table notebook</a>'\n",
              "          + ' to learn more about interactive tables.';\n",
              "        element.innerHTML = '';\n",
              "        dataTable['output_type'] = 'display_data';\n",
              "        await google.colab.output.renderOutput(dataTable, element);\n",
              "        const docLink = document.createElement('div');\n",
              "        docLink.innerHTML = docLinkHtml;\n",
              "        element.appendChild(docLink);\n",
              "      }\n",
              "    </script>\n",
              "  </div>\n",
              "\n",
              "\n",
              "<div id=\"df-cfe7d4a1-c4b1-4db1-8cda-504dd0b60105\">\n",
              "  <button class=\"colab-df-quickchart\" onclick=\"quickchart('df-cfe7d4a1-c4b1-4db1-8cda-504dd0b60105')\"\n",
              "            title=\"Suggest charts\"\n",
              "            style=\"display:none;\">\n",
              "\n",
              "<svg xmlns=\"http://www.w3.org/2000/svg\" height=\"24px\"viewBox=\"0 0 24 24\"\n",
              "     width=\"24px\">\n",
              "    <g>\n",
              "        <path d=\"M19 3H5c-1.1 0-2 .9-2 2v14c0 1.1.9 2 2 2h14c1.1 0 2-.9 2-2V5c0-1.1-.9-2-2-2zM9 17H7v-7h2v7zm4 0h-2V7h2v10zm4 0h-2v-4h2v4z\"/>\n",
              "    </g>\n",
              "</svg>\n",
              "  </button>\n",
              "\n",
              "<style>\n",
              "  .colab-df-quickchart {\n",
              "      --bg-color: #E8F0FE;\n",
              "      --fill-color: #1967D2;\n",
              "      --hover-bg-color: #E2EBFA;\n",
              "      --hover-fill-color: #174EA6;\n",
              "      --disabled-fill-color: #AAA;\n",
              "      --disabled-bg-color: #DDD;\n",
              "  }\n",
              "\n",
              "  [theme=dark] .colab-df-quickchart {\n",
              "      --bg-color: #3B4455;\n",
              "      --fill-color: #D2E3FC;\n",
              "      --hover-bg-color: #434B5C;\n",
              "      --hover-fill-color: #FFFFFF;\n",
              "      --disabled-bg-color: #3B4455;\n",
              "      --disabled-fill-color: #666;\n",
              "  }\n",
              "\n",
              "  .colab-df-quickchart {\n",
              "    background-color: var(--bg-color);\n",
              "    border: none;\n",
              "    border-radius: 50%;\n",
              "    cursor: pointer;\n",
              "    display: none;\n",
              "    fill: var(--fill-color);\n",
              "    height: 32px;\n",
              "    padding: 0;\n",
              "    width: 32px;\n",
              "  }\n",
              "\n",
              "  .colab-df-quickchart:hover {\n",
              "    background-color: var(--hover-bg-color);\n",
              "    box-shadow: 0 1px 2px rgba(60, 64, 67, 0.3), 0 1px 3px 1px rgba(60, 64, 67, 0.15);\n",
              "    fill: var(--button-hover-fill-color);\n",
              "  }\n",
              "\n",
              "  .colab-df-quickchart-complete:disabled,\n",
              "  .colab-df-quickchart-complete:disabled:hover {\n",
              "    background-color: var(--disabled-bg-color);\n",
              "    fill: var(--disabled-fill-color);\n",
              "    box-shadow: none;\n",
              "  }\n",
              "\n",
              "  .colab-df-spinner {\n",
              "    border: 2px solid var(--fill-color);\n",
              "    border-color: transparent;\n",
              "    border-bottom-color: var(--fill-color);\n",
              "    animation:\n",
              "      spin 1s steps(1) infinite;\n",
              "  }\n",
              "\n",
              "  @keyframes spin {\n",
              "    0% {\n",
              "      border-color: transparent;\n",
              "      border-bottom-color: var(--fill-color);\n",
              "      border-left-color: var(--fill-color);\n",
              "    }\n",
              "    20% {\n",
              "      border-color: transparent;\n",
              "      border-left-color: var(--fill-color);\n",
              "      border-top-color: var(--fill-color);\n",
              "    }\n",
              "    30% {\n",
              "      border-color: transparent;\n",
              "      border-left-color: var(--fill-color);\n",
              "      border-top-color: var(--fill-color);\n",
              "      border-right-color: var(--fill-color);\n",
              "    }\n",
              "    40% {\n",
              "      border-color: transparent;\n",
              "      border-right-color: var(--fill-color);\n",
              "      border-top-color: var(--fill-color);\n",
              "    }\n",
              "    60% {\n",
              "      border-color: transparent;\n",
              "      border-right-color: var(--fill-color);\n",
              "    }\n",
              "    80% {\n",
              "      border-color: transparent;\n",
              "      border-right-color: var(--fill-color);\n",
              "      border-bottom-color: var(--fill-color);\n",
              "    }\n",
              "    90% {\n",
              "      border-color: transparent;\n",
              "      border-bottom-color: var(--fill-color);\n",
              "    }\n",
              "  }\n",
              "</style>\n",
              "\n",
              "  <script>\n",
              "    async function quickchart(key) {\n",
              "      const quickchartButtonEl =\n",
              "        document.querySelector('#' + key + ' button');\n",
              "      quickchartButtonEl.disabled = true;  // To prevent multiple clicks.\n",
              "      quickchartButtonEl.classList.add('colab-df-spinner');\n",
              "      try {\n",
              "        const charts = await google.colab.kernel.invokeFunction(\n",
              "            'suggestCharts', [key], {});\n",
              "      } catch (error) {\n",
              "        console.error('Error during call to suggestCharts:', error);\n",
              "      }\n",
              "      quickchartButtonEl.classList.remove('colab-df-spinner');\n",
              "      quickchartButtonEl.classList.add('colab-df-quickchart-complete');\n",
              "    }\n",
              "    (() => {\n",
              "      let quickchartButtonEl =\n",
              "        document.querySelector('#df-cfe7d4a1-c4b1-4db1-8cda-504dd0b60105 button');\n",
              "      quickchartButtonEl.style.display =\n",
              "        google.colab.kernel.accessAllowed ? 'block' : 'none';\n",
              "    })();\n",
              "  </script>\n",
              "</div>\n",
              "\n",
              "    </div>\n",
              "  </div>\n"
            ],
            "text/plain": [
              "                                Open       High        Low      Close  \\\n",
              "Date                                                                    \n",
              "2020-02-24 00:00:00-05:00  72.138762  73.818096  70.190050  72.362022   \n",
              "2020-02-25 00:00:00-05:00  73.034250  73.417680  69.437745  69.910965   \n",
              "2020-02-26 00:00:00-05:00  69.534818  72.289226  69.527537  71.020012   \n",
              "2020-02-27 00:00:00-05:00  68.217082  69.406208  66.241671  66.377571   \n",
              "2020-02-28 00:00:00-05:00  62.431604  67.564263  62.215616  66.338730   \n",
              "\n",
              "                              Volume  Dividends  Stock Splits  \n",
              "Date                                                           \n",
              "2020-02-24 00:00:00-05:00  222195200        0.0           0.0  \n",
              "2020-02-25 00:00:00-05:00  230673600        0.0           0.0  \n",
              "2020-02-26 00:00:00-05:00  198054800        0.0           0.0  \n",
              "2020-02-27 00:00:00-05:00  320605600        0.0           0.0  \n",
              "2020-02-28 00:00:00-05:00  426510000        0.0           0.0  "
            ]
          },
          "execution_count": 25,
          "metadata": {},
          "output_type": "execute_result"
        }
      ],
      "source": [
        "historical_data.head()"
      ]
    },
    {
      "cell_type": "code",
      "execution_count": 103,
      "metadata": {
        "colab": {
          "base_uri": "https://localhost:8080/",
          "height": 390
        },
        "id": "h0MD98XSDyAa",
        "outputId": "5de9e7fa-fb79-47a0-ed4d-93036d7ac081"
      },
      "outputs": [
        {
          "data": {
            "image/png": "[encoded data removed]",
            "text/plain": [
              "<Figure size 1500x400 with 1 Axes>"
            ]
          },
          "metadata": {},
          "output_type": "display_data"
        }
      ],
      "source": [
        "# plot close from the historical data\n",
        "from matplotlib import pyplot as plt\n",
        "historical_data['Close'].plot(kind='line', figsize=(15, 4), title='Close')\n",
        "plt.gca().spines[['top', 'right']].set_visible(False)\n"
      ]
    },
    {
      "cell_type": "code",
      "execution_count": null,
      "metadata": {
        "id": "-mpZKe5YDW4t"
      },
      "outputs": [],
      "source": []
    },
    {
      "cell_type": "code",
      "execution_count": 29,
      "metadata": {
        "id": "POfdQb4cU9EA"
      },
      "outputs": [],
      "source": [
        "processed_data = preprocess_data(historical_data)"
      ]
    },
    {
      "cell_type": "code",
      "execution_count": 31,
      "metadata": {
        "id": "fnRRyFWPU9Bk"
      },
      "outputs": [],
      "source": [
        "# Detect anomalies using a Z-score threshold\n",
        "def detect_anomalies(data, threshold=2):\n",
        "    anomalies = data[abs(data['Z-Score']) > threshold]\n",
        "    return anomalies\n",
        "\n",
        "anomalies = detect_anomalies(processed_data)"
      ]
    },
    {
      "cell_type": "code",
      "execution_count": 100,
      "metadata": {
        "colab": {
          "base_uri": "https://localhost:8080/",
          "height": 237
        },
        "id": "7_4Wq6_DqbrT",
        "outputId": "c5df771e-6d2e-4852-dacc-3333d6c574eb"
      },
      "outputs": [
        {
          "data": {
            "application/vnd.google.colaboratory.intrinsic+json": {
              "summary": "{\n  \"name\": \"anomalies\",\n  \"rows\": 51,\n  \"fields\": [\n    {\n      \"column\": \"Date\",\n      \"properties\": {\n        \"dtype\": \"date\",\n        \"min\": \"2020-02-27 00:00:00-05:00\",\n        \"max\": \"2025-01-16 00:00:00-05:00\",\n        \"num_unique_values\": 51,\n        \"samples\": [\n          \"2023-05-05 00:00:00-04:00\",\n          \"2022-11-10 00:00:00-05:00\",\n          \"2024-04-11 00:00:00-04:00\"\n        ],\n        \"semantic_type\": \"\",\n        \"description\": \"\"\n      }\n    },\n    {\n      \"column\": \"Open\",\n      \"properties\": {\n        \"dtype\": \"number\",\n        \"std\": 46.873559933929144,\n        \"min\": 57.359613328429845,\n        \"max\": 237.089336348529,\n        \"num_unique_values\": 51,\n        \"samples\": [\n          169.27292902501793,\n          139.61669377296678,\n          167.54885233902874\n        ],\n        \"semantic_type\": \"\",\n        \"description\": \"\"\n      }\n    },\n    {\n      \"column\": \"High\",\n      \"properties\": {\n        \"dtype\": \"number\",\n        \"std\": 47.71321633355215,\n        \"min\": 60.10916707001685,\n        \"max\": 237.74859991927732,\n        \"num_unique_values\": 51,\n        \"samples\": [\n          172.55978934902075,\n          145.18197631835938,\n          174.63540094951088\n        ],\n        \"semantic_type\": \"\",\n        \"description\": \"\"\n      }\n    },\n    {\n      \"column\": \"Low\",\n      \"properties\": {\n        \"dtype\": \"number\",\n        \"std\": 45.78082191291967,\n        \"min\": 55.330813454385684,\n        \"max\": 227.7795647267042,\n        \"num_unique_values\": 51,\n        \"samples\": [\n          169.0551242996228,\n          137.8966866598679,\n          167.36970557110288\n        ],\n        \"semantic_type\": \"\",\n        \"description\": \"\"\n      }\n    },\n    {\n      \"column\": \"Close\",\n      \"properties\": {\n        \"dtype\": \"number\",\n        \"std\": 46.80597000030102,\n        \"min\": 55.631736755371094,\n        \"max\": 228.00930786132812,\n        \"num_unique_values\": 51,\n        \"samples\": [\n          171.8370819091797,\n          145.18197631835938,\n          174.2173614501953\n        ],\n        \"semantic_type\": \"\",\n        \"description\": \"\"\n      }\n    },\n    {\n      \"column\": \"Volume\",\n      \"properties\": {\n        \"dtype\": \"number\",\n        \"std\": 91722069,\n        \"min\": 71759100,\n        \"max\": 418474000,\n        \"num_unique_values\": 51,\n        \"samples\": [\n          113316400,\n          118854000,\n          91070300\n        ],\n        \"semantic_type\": \"\",\n        \"description\": \"\"\n      }\n    },\n    {\n      \"column\": \"Dividends\",\n      \"properties\": {\n        \"dtype\": \"number\",\n        \"std\": 0.0,\n        \"min\": 0.0,\n        \"max\": 0.0,\n        \"num_unique_values\": 1,\n        \"samples\": [\n          0.0\n        ],\n        \"semantic_type\": \"\",\n        \"description\": \"\"\n      }\n    },\n    {\n      \"column\": \"Stock Splits\",\n      \"properties\": {\n        \"dtype\": \"number\",\n        \"std\": 0.0,\n        \"min\": 0.0,\n        \"max\": 0.0,\n        \"num_unique_values\": 1,\n        \"samples\": [\n          0.0\n        ],\n        \"semantic_type\": \"\",\n        \"description\": \"\"\n      }\n    },\n    {\n      \"column\": \"Returns\",\n      \"properties\": {\n        \"dtype\": \"number\",\n        \"std\": 0.06533836438019196,\n        \"min\": -0.12864695790568126,\n        \"max\": 0.11980817662037002,\n        \"num_unique_values\": 51,\n        \"samples\": [\n          0.0469269761620954\n        ],\n        \"semantic_type\": \"\",\n        \"description\": \"\"\n      }\n    },\n    {\n      \"column\": \"Z-Score\",\n      \"properties\": {\n        \"dtype\": \"number\",\n        \"std\": 3.2767879598147553,\n        \"min\": -6.510549132655432,\n        \"max\": 5.9497381899934645,\n        \"num_unique_values\": 51,\n        \"samples\": [\n          2.2946690369168437\n        ],\n        \"semantic_type\": \"\",\n        \"description\": \"\"\n      }\n    }\n  ]\n}",
              "type": "dataframe",
              "variable_name": "anomalies"
            },
            "text/html": [
              "\n",
              "  <div id=\"df-032e5537-4932-492c-8ece-b98bc8bc83a7\" class=\"colab-df-container\">\n",
              "    <div>\n",
              "<style scoped>\n",
              "    .dataframe tbody tr th:only-of-type {\n",
              "        vertical-align: middle;\n",
              "    }\n",
              "\n",
              "    .dataframe tbody tr th {\n",
              "        vertical-align: top;\n",
              "    }\n",
              "\n",
              "    .dataframe thead th {\n",
              "        text-align: right;\n",
              "    }\n",
              "</style>\n",
              "<table border=\"1\" class=\"dataframe\">\n",
              "  <thead>\n",
              "    <tr style=\"text-align: right;\">\n",
              "      <th></th>\n",
              "      <th>Open</th>\n",
              "      <th>High</th>\n",
              "      <th>Low</th>\n",
              "      <th>Close</th>\n",
              "      <th>Volume</th>\n",
              "      <th>Dividends</th>\n",
              "      <th>Stock Splits</th>\n",
              "      <th>Returns</th>\n",
              "      <th>Z-Score</th>\n",
              "    </tr>\n",
              "    <tr>\n",
              "      <th>Date</th>\n",
              "      <th></th>\n",
              "      <th></th>\n",
              "      <th></th>\n",
              "      <th></th>\n",
              "      <th></th>\n",
              "      <th></th>\n",
              "      <th></th>\n",
              "      <th></th>\n",
              "      <th></th>\n",
              "    </tr>\n",
              "  </thead>\n",
              "  <tbody>\n",
              "    <tr>\n",
              "      <th>2020-02-27 00:00:00-05:00</th>\n",
              "      <td>68.217067</td>\n",
              "      <td>69.406192</td>\n",
              "      <td>66.241656</td>\n",
              "      <td>66.377556</td>\n",
              "      <td>320605600</td>\n",
              "      <td>0.0</td>\n",
              "      <td>0.0</td>\n",
              "      <td>-0.065368</td>\n",
              "      <td>-3.337062</td>\n",
              "    </tr>\n",
              "    <tr>\n",
              "      <th>2020-03-02 00:00:00-05:00</th>\n",
              "      <td>68.503439</td>\n",
              "      <td>73.153170</td>\n",
              "      <td>67.396823</td>\n",
              "      <td>72.514923</td>\n",
              "      <td>341397200</td>\n",
              "      <td>0.0</td>\n",
              "      <td>0.0</td>\n",
              "      <td>0.093100</td>\n",
              "      <td>4.610319</td>\n",
              "    </tr>\n",
              "    <tr>\n",
              "      <th>2020-03-04 00:00:00-05:00</th>\n",
              "      <td>71.939761</td>\n",
              "      <td>73.628805</td>\n",
              "      <td>71.136494</td>\n",
              "      <td>73.468636</td>\n",
              "      <td>219178400</td>\n",
              "      <td>0.0</td>\n",
              "      <td>0.0</td>\n",
              "      <td>0.046384</td>\n",
              "      <td>2.267458</td>\n",
              "    </tr>\n",
              "    <tr>\n",
              "      <th>2020-03-09 00:00:00-04:00</th>\n",
              "      <td>64.006586</td>\n",
              "      <td>67.486602</td>\n",
              "      <td>63.824576</td>\n",
              "      <td>64.593872</td>\n",
              "      <td>286744800</td>\n",
              "      <td>0.0</td>\n",
              "      <td>0.0</td>\n",
              "      <td>-0.079092</td>\n",
              "      <td>-4.025320</td>\n",
              "    </tr>\n",
              "    <tr>\n",
              "      <th>2020-03-10 00:00:00-04:00</th>\n",
              "      <td>67.256077</td>\n",
              "      <td>69.512989</td>\n",
              "      <td>65.370456</td>\n",
              "      <td>69.246040</td>\n",
              "      <td>285290000</td>\n",
              "      <td>0.0</td>\n",
              "      <td>0.0</td>\n",
              "      <td>0.072022</td>\n",
              "      <td>3.553202</td>\n",
              "    </tr>\n",
              "  </tbody>\n",
              "</table>\n",
              "</div>\n",
              "    <div class=\"colab-df-buttons\">\n",
              "\n",
              "  <div class=\"colab-df-container\">\n",
              "    <button class=\"colab-df-convert\" onclick=\"convertToInteractive('df-032e5537-4932-492c-8ece-b98bc8bc83a7')\"\n",
              "            title=\"Convert this dataframe to an interactive table.\"\n",
              "            style=\"display:none;\">\n",
              "\n",
              "  <svg xmlns=\"http://www.w3.org/2000/svg\" height=\"24px\" viewBox=\"0 -960 960 960\">\n",
              "    <path d=\"M120-120v-720h720v720H120Zm60-500h600v-160H180v160Zm220 220h160v-160H400v160Zm0 220h160v-160H400v160ZM180-400h160v-160H180v160Zm440 0h160v-160H620v160ZM180-180h160v-160H180v160Zm440 0h160v-160H620v160Z\"/>\n",
              "  </svg>\n",
              "    </button>\n",
              "\n",
              "  <style>\n",
              "    .colab-df-container {\n",
              "      display:flex;\n",
              "      gap: 12px;\n",
              "    }\n",
              "\n",
              "    .colab-df-convert {\n",
              "      background-color: #E8F0FE;\n",
              "      border: none;\n",
              "      border-radius: 50%;\n",
              "      cursor: pointer;\n",
              "      display: none;\n",
              "      fill: #1967D2;\n",
              "      height: 32px;\n",
              "      padding: 0 0 0 0;\n",
              "      width: 32px;\n",
              "    }\n",
              "\n",
              "    .colab-df-convert:hover {\n",
              "      background-color: #E2EBFA;\n",
              "      box-shadow: 0px 1px 2px rgba(60, 64, 67, 0.3), 0px 1px 3px 1px rgba(60, 64, 67, 0.15);\n",
              "      fill: #174EA6;\n",
              "    }\n",
              "\n",
              "    .colab-df-buttons div {\n",
              "      margin-bottom: 4px;\n",
              "    }\n",
              "\n",
              "    [theme=dark] .colab-df-convert {\n",
              "      background-color: #3B4455;\n",
              "      fill: #D2E3FC;\n",
              "    }\n",
              "\n",
              "    [theme=dark] .colab-df-convert:hover {\n",
              "      background-color: #434B5C;\n",
              "      box-shadow: 0px 1px 3px 1px rgba(0, 0, 0, 0.15);\n",
              "      filter: drop-shadow(0px 1px 2px rgba(0, 0, 0, 0.3));\n",
              "      fill: #FFFFFF;\n",
              "    }\n",
              "  </style>\n",
              "\n",
              "    <script>\n",
              "      const buttonEl =\n",
              "        document.querySelector('#df-032e5537-4932-492c-8ece-b98bc8bc83a7 button.colab-df-convert');\n",
              "      buttonEl.style.display =\n",
              "        google.colab.kernel.accessAllowed ? 'block' : 'none';\n",
              "\n",
              "      async function convertToInteractive(key) {\n",
              "        const element = document.querySelector('#df-032e5537-4932-492c-8ece-b98bc8bc83a7');\n",
              "        const dataTable =\n",
              "          await google.colab.kernel.invokeFunction('convertToInteractive',\n",
              "                                                    [key], {});\n",
              "        if (!dataTable) return;\n",
              "\n",
              "        const docLinkHtml = 'Like what you see? Visit the ' +\n",
              "          '<a target=\"_blank\" href=https://colab.research.google.com/notebooks/data_table.ipynb>data table notebook</a>'\n",
              "          + ' to learn more about interactive tables.';\n",
              "        element.innerHTML = '';\n",
              "        dataTable['output_type'] = 'display_data';\n",
              "        await google.colab.output.renderOutput(dataTable, element);\n",
              "        const docLink = document.createElement('div');\n",
              "        docLink.innerHTML = docLinkHtml;\n",
              "        element.appendChild(docLink);\n",
              "      }\n",
              "    </script>\n",
              "  </div>\n",
              "\n",
              "\n",
              "<div id=\"df-ec19cc00-dde8-4e27-9d21-b36bf5c1f13f\">\n",
              "  <button class=\"colab-df-quickchart\" onclick=\"quickchart('df-ec19cc00-dde8-4e27-9d21-b36bf5c1f13f')\"\n",
              "            title=\"Suggest charts\"\n",
              "            style=\"display:none;\">\n",
              "\n",
              "<svg xmlns=\"http://www.w3.org/2000/svg\" height=\"24px\"viewBox=\"0 0 24 24\"\n",
              "     width=\"24px\">\n",
              "    <g>\n",
              "        <path d=\"M19 3H5c-1.1 0-2 .9-2 2v14c0 1.1.9 2 2 2h14c1.1 0 2-.9 2-2V5c0-1.1-.9-2-2-2zM9 17H7v-7h2v7zm4 0h-2V7h2v10zm4 0h-2v-4h2v4z\"/>\n",
              "    </g>\n",
              "</svg>\n",
              "  </button>\n",
              "\n",
              "<style>\n",
              "  .colab-df-quickchart {\n",
              "      --bg-color: #E8F0FE;\n",
              "      --fill-color: #1967D2;\n",
              "      --hover-bg-color: #E2EBFA;\n",
              "      --hover-fill-color: #174EA6;\n",
              "      --disabled-fill-color: #AAA;\n",
              "      --disabled-bg-color: #DDD;\n",
              "  }\n",
              "\n",
              "  [theme=dark] .colab-df-quickchart {\n",
              "      --bg-color: #3B4455;\n",
              "      --fill-color: #D2E3FC;\n",
              "      --hover-bg-color: #434B5C;\n",
              "      --hover-fill-color: #FFFFFF;\n",
              "      --disabled-bg-color: #3B4455;\n",
              "      --disabled-fill-color: #666;\n",
              "  }\n",
              "\n",
              "  .colab-df-quickchart {\n",
              "    background-color: var(--bg-color);\n",
              "    border: none;\n",
              "    border-radius: 50%;\n",
              "    cursor: pointer;\n",
              "    display: none;\n",
              "    fill: var(--fill-color);\n",
              "    height: 32px;\n",
              "    padding: 0;\n",
              "    width: 32px;\n",
              "  }\n",
              "\n",
              "  .colab-df-quickchart:hover {\n",
              "    background-color: var(--hover-bg-color);\n",
              "    box-shadow: 0 1px 2px rgba(60, 64, 67, 0.3), 0 1px 3px 1px rgba(60, 64, 67, 0.15);\n",
              "    fill: var(--button-hover-fill-color);\n",
              "  }\n",
              "\n",
              "  .colab-df-quickchart-complete:disabled,\n",
              "  .colab-df-quickchart-complete:disabled:hover {\n",
              "    background-color: var(--disabled-bg-color);\n",
              "    fill: var(--disabled-fill-color);\n",
              "    box-shadow: none;\n",
              "  }\n",
              "\n",
              "  .colab-df-spinner {\n",
              "    border: 2px solid var(--fill-color);\n",
              "    border-color: transparent;\n",
              "    border-bottom-color: var(--fill-color);\n",
              "    animation:\n",
              "      spin 1s steps(1) infinite;\n",
              "  }\n",
              "\n",
              "  @keyframes spin {\n",
              "    0% {\n",
              "      border-color: transparent;\n",
              "      border-bottom-color: var(--fill-color);\n",
              "      border-left-color: var(--fill-color);\n",
              "    }\n",
              "    20% {\n",
              "      border-color: transparent;\n",
              "      border-left-color: var(--fill-color);\n",
              "      border-top-color: var(--fill-color);\n",
              "    }\n",
              "    30% {\n",
              "      border-color: transparent;\n",
              "      border-left-color: var(--fill-color);\n",
              "      border-top-color: var(--fill-color);\n",
              "      border-right-color: var(--fill-color);\n",
              "    }\n",
              "    40% {\n",
              "      border-color: transparent;\n",
              "      border-right-color: var(--fill-color);\n",
              "      border-top-color: var(--fill-color);\n",
              "    }\n",
              "    60% {\n",
              "      border-color: transparent;\n",
              "      border-right-color: var(--fill-color);\n",
              "    }\n",
              "    80% {\n",
              "      border-color: transparent;\n",
              "      border-right-color: var(--fill-color);\n",
              "      border-bottom-color: var(--fill-color);\n",
              "    }\n",
              "    90% {\n",
              "      border-color: transparent;\n",
              "      border-bottom-color: var(--fill-color);\n",
              "    }\n",
              "  }\n",
              "</style>\n",
              "\n",
              "  <script>\n",
              "    async function quickchart(key) {\n",
              "      const quickchartButtonEl =\n",
              "        document.querySelector('#' + key + ' button');\n",
              "      quickchartButtonEl.disabled = true;  // To prevent multiple clicks.\n",
              "      quickchartButtonEl.classList.add('colab-df-spinner');\n",
              "      try {\n",
              "        const charts = await google.colab.kernel.invokeFunction(\n",
              "            'suggestCharts', [key], {});\n",
              "      } catch (error) {\n",
              "        console.error('Error during call to suggestCharts:', error);\n",
              "      }\n",
              "      quickchartButtonEl.classList.remove('colab-df-spinner');\n",
              "      quickchartButtonEl.classList.add('colab-df-quickchart-complete');\n",
              "    }\n",
              "    (() => {\n",
              "      let quickchartButtonEl =\n",
              "        document.querySelector('#df-ec19cc00-dde8-4e27-9d21-b36bf5c1f13f button');\n",
              "      quickchartButtonEl.style.display =\n",
              "        google.colab.kernel.accessAllowed ? 'block' : 'none';\n",
              "    })();\n",
              "  </script>\n",
              "</div>\n",
              "\n",
              "    </div>\n",
              "  </div>\n"
            ],
            "text/plain": [
              "                                Open       High        Low      Close  \\\n",
              "Date                                                                    \n",
              "2020-02-27 00:00:00-05:00  68.217067  69.406192  66.241656  66.377556   \n",
              "2020-03-02 00:00:00-05:00  68.503439  73.153170  67.396823  72.514923   \n",
              "2020-03-04 00:00:00-05:00  71.939761  73.628805  71.136494  73.468636   \n",
              "2020-03-09 00:00:00-04:00  64.006586  67.486602  63.824576  64.593872   \n",
              "2020-03-10 00:00:00-04:00  67.256077  69.512989  65.370456  69.246040   \n",
              "\n",
              "                              Volume  Dividends  Stock Splits   Returns  \\\n",
              "Date                                                                      \n",
              "2020-02-27 00:00:00-05:00  320605600        0.0           0.0 -0.065368   \n",
              "2020-03-02 00:00:00-05:00  341397200        0.0           0.0  0.093100   \n",
              "2020-03-04 00:00:00-05:00  219178400        0.0           0.0  0.046384   \n",
              "2020-03-09 00:00:00-04:00  286744800        0.0           0.0 -0.079092   \n",
              "2020-03-10 00:00:00-04:00  285290000        0.0           0.0  0.072022   \n",
              "\n",
              "                            Z-Score  \n",
              "Date                                 \n",
              "2020-02-27 00:00:00-05:00 -3.337062  \n",
              "2020-03-02 00:00:00-05:00  4.610319  \n",
              "2020-03-04 00:00:00-05:00  2.267458  \n",
              "2020-03-09 00:00:00-04:00 -4.025320  \n",
              "2020-03-10 00:00:00-04:00  3.553202  "
            ]
          },
          "execution_count": 100,
          "metadata": {},
          "output_type": "execute_result"
        }
      ],
      "source": [
        "anomalies.head()"
      ]
    },
    {
      "cell_type": "code",
      "execution_count": 101,
      "metadata": {
        "colab": {
          "base_uri": "https://localhost:8080/"
        },
        "id": "TiT0Q5L8Dq_8",
        "outputId": "aeab224b-9b4e-4635-f4e7-01135f3458b0"
      },
      "outputs": [
        {
          "data": {
            "text/plain": [
              "51"
            ]
          },
          "execution_count": 101,
          "metadata": {},
          "output_type": "execute_result"
        }
      ],
      "source": [
        "len(anomalies)"
      ]
    },
    {
      "cell_type": "code",
      "execution_count": 105,
      "metadata": {
        "colab": {
          "base_uri": "https://localhost:8080/",
          "height": 430
        },
        "id": "vl7jidIsEH_s",
        "outputId": "7d981e16-aac6-4295-ce73-f5774b707e7c"
      },
      "outputs": [
        {
          "data": {
            "image/png": "[encoded data removed]",
            "text/plain": [
              "<Figure size 640x480 with 1 Axes>"
            ]
          },
          "metadata": {},
          "output_type": "display_data"
        }
      ],
      "source": [
        "# plot the anamolies as red dots on the historical close plot"
      ]
    },
    {
      "cell_type": "code",
      "execution_count": null,
      "metadata": {
        "id": "kAkzQz2Cnqkz"
      },
      "outputs": [],
      "source": [
        "OPENAI_API_KEY = \"\""
      ]
    },
    {
      "cell_type": "code",
      "execution_count": 71,
      "metadata": {
        "id": "HlzsvYtQqhVK"
      },
      "outputs": [],
      "source": [
        "from openai import OpenAI\n",
        "\n",
        "# Initialize OpenAI client with API key (replace 'your_api_key_here' with your actual key)\n",
        "client = OpenAI(api_key=OPENAI_API_KEY)\n"
      ]
    },
    {
      "cell_type": "code",
      "execution_count": 77,
      "metadata": {
        "id": "HXWs9YKvofkC"
      },
      "outputs": [],
      "source": [
        "# Convert anomalies into questions for OpenAI processing\n",
        "def formulate_questions(anomalies, ticker_symbol):\n",
        "    questions = []\n",
        "    for index, row in anomalies.iterrows():\n",
        "        question = (\n",
        "            f\"On {index.date()}, for the {ticker_symbol} stock price there was an unusual return of {row['Returns']:.2%}. \"\n",
        "            f\"Can you investigate possible reasons for this anomaly?\"\n",
        "        )\n",
        "        questions.append(question)\n",
        "    return questions"
      ]
    },
    {
      "cell_type": "code",
      "execution_count": 78,
      "metadata": {
        "colab": {
          "base_uri": "https://localhost:8080/"
        },
        "id": "DgDMjKUZofhq",
        "outputId": "aedf376c-c0d8-4632-a150-3a345863a921"
      },
      "outputs": [
        {
          "name": "stdout",
          "output_type": "stream",
          "text": [
            "Generated Questions:\n"
          ]
        },
        {
          "data": {
            "text/plain": [
              "['On 2020-02-27, for the AAPL stock price there was an unusual return of -6.54%. Can you investigate possible reasons for this anomaly?',\n",
              " 'On 2020-03-02, for the AAPL stock price there was an unusual return of 9.31%. Can you investigate possible reasons for this anomaly?',\n",
              " 'On 2020-03-04, for the AAPL stock price there was an unusual return of 4.64%. Can you investigate possible reasons for this anomaly?']"
            ]
          },
          "execution_count": 78,
          "metadata": {},
          "output_type": "execute_result"
        }
      ],
      "source": [
        "questions = formulate_questions(anomalies, ticker_symbol)\n",
        "print(\"Generated Questions:\")\n",
        "questions[:3]"
      ]
    },
    {
      "cell_type": "code",
      "execution_count": 79,
      "metadata": {
        "id": "e5GklG4fq80A"
      },
      "outputs": [],
      "source": [
        "# Web Research Agent using OpenAI API\n",
        "def web_research_agent(question):\n",
        "    completion = client.chat.completions.create(\n",
        "        model=\"gpt-4o\",\n",
        "        messages=[\n",
        "            {\"role\": \"system\", \"content\": \"You are a helpful assistant.\"},\n",
        "            {\"role\": \"user\", \"content\": question}\n",
        "        ]\n",
        "    )\n",
        "    return completion.choices[0].message.content"
      ]
    },
    {
      "cell_type": "code",
      "execution_count": 80,
      "metadata": {
        "colab": {
          "base_uri": "https://localhost:8080/"
        },
        "id": "Ynm5su78q8wp",
        "outputId": "a2fff3ba-28e6-434f-a6d1-f7f03c2271a1"
      },
      "outputs": [
        {
          "name": "stdout",
          "output_type": "stream",
          "text": [
            "Web Research Response: On February 27, 2020, the AAPL stock, like much of the stock market, experienced a significant decline. There are several factors that could help explain this unusual return:\n",
            "\n",
            "1. **COVID-19 Pandemic:** Around this time, the COVID-19 pandemic was causing widespread concern and uncertainty in the markets. February 2020 saw significant volatility as investors were trying to assess the economic impact of the virus. The rapid spread of COVID-19 led to fears of a global economic slowdown, supply chain disruptions, and decreased consumer demand, all of which negatively impacted stock prices.\n",
            "\n",
            "2. **Market-wide Sell-off:** During this period, there was a general market sell-off as investors moved away from equities into safer assets. The S&P 500 and other major indices were also down significantly, which indicates a broader risk-off sentiment among investors.\n",
            "\n",
            "3. **Apple's Supply Chain Exposure:** Apple is heavily reliant on its supply chain in China, which was significantly disrupted due to the outbreak and subsequent lockdown measures. Concerns about production delays and decreased sales in China may have negatively impacted investor sentiment towards Apple.\n",
            "\n",
            "4. **Broader Tech Sector Impact:** As one of the leading tech companies, Apple’s stock often mirrors the broader trends in the tech sector. Given the interconnected nature of tech companies and global supply chains, concerns in the tech sector could have contributed to Apple's stock decline.\n",
            "\n",
            "5. **Investor Sentiment:** At times of uncertainty, investor sentiment can cause stock prices to deviate markedly from intrinsic values, as fear and uncertainty lead to increased volatility. The large sell-offs in late February 2020 were partially driven by such sentiment.\n",
            "\n",
            "Overall, the decline in AAPL stock on February 27, 2020, can be attributed to a combination of factors related to the emerging COVID-19 pandemic and its expected economic ramifications, affecting Apple directly and the broader market.\n"
          ]
        }
      ],
      "source": [
        "# Example usage for one question\n",
        "web_response = web_research_agent(questions[0])\n",
        "print(\"Web Research Response:\", web_response)"
      ]
    },
    {
      "cell_type": "code",
      "execution_count": 90,
      "metadata": {
        "id": "3kXj-oRrq8t4"
      },
      "outputs": [],
      "source": [
        "# Institutional Knowledge Agent using OpenAI API\n",
        "def institutional_knowledge_agent(question):\n",
        "  prompt = f\"\"\"You are a You are a stock market expert to verify some anomaly data-related questions.\n",
        "        Give relevent insights on technical stock indicators and industry indicators which influence to occur the anomaly.\n",
        "        Respond a concise summary.\n",
        "        Question: {question}\n",
        "        \"\"\"\n",
        "  completion = client.chat.completions.create(\n",
        "        model=\"gpt-4o\",\n",
        "        messages=[\n",
        "            {\"role\": \"system\", \"content\": \"You are a financial market expert.\"},\n",
        "            {\"role\": \"user\", \"content\": prompt}\n",
        "        ]\n",
        "    )\n",
        "  return completion.choices[0].message.content"
      ]
    },
    {
      "cell_type": "code",
      "execution_count": 91,
      "metadata": {
        "colab": {
          "base_uri": "https://localhost:8080/"
        },
        "id": "xt3BN4bcq8rD",
        "outputId": "98dfa0a0-ef13-4cc0-d7f0-05a29ad5c392"
      },
      "outputs": [
        {
          "name": "stdout",
          "output_type": "stream",
          "text": [
            "Institutional Knowledge Response: On February 27, 2020, the AAPL stock experienced an unusual return of -6.54%, which can be attributed to several significant factors:\n",
            "\n",
            "1. **Market-Wide Sell-Off:** The date falls within the early stages of the COVID-19 pandemic, when global markets were experiencing heightened volatility and significant declines. Fears of the pandemic's impact on global economies led to broad-based selling across equity markets.\n",
            "\n",
            "2. **Technical Indicators:** During periods of high volatility, technical indicators such as the Relative Strength Index (RSI) and Moving Average Convergence Divergence (MACD) typically show extreme readings, often indicating overbought or oversold conditions. AAPL might have breached key support levels prompting further selling pressure.\n",
            "\n",
            "3. **Industry Indicators:** Apple's supply chain was heavily dependent on China, the initial epicenter of the pandemic. Concerns about supply chain disruptions and lower consumer demand impacted investor sentiment towards tech stocks broadly and Apple specifically.\n",
            "\n",
            "4. **Investor Sentiment:** Fear-driven selling and a flight to safety led investors to liquidate positions in risk assets such as equities, including big tech names like Apple.\n",
            "\n",
            "In summary, the anomaly in AAPL's stock return on February 27, 2020, was influenced by pandemic-driven market turmoil, technical breakdowns, supply chain concerns, and negative investor sentiment impacting the broader market and technology stocks.\n"
          ]
        }
      ],
      "source": [
        "# Example usage for one question\n",
        "institutional_response = institutional_knowledge_agent(questions[0])\n",
        "print(\"Institutional Knowledge Response:\", institutional_response)"
      ]
    },
    {
      "cell_type": "code",
      "execution_count": 66,
      "metadata": {
        "id": "14Ni6iMLtRui"
      },
      "outputs": [],
      "source": [
        "# Cross-Checking Agent using OpenAI API\n",
        "def cross_checking_agent(question):\n",
        "    completion = client.chat.completions.create(\n",
        "        model=\"gpt-4o\",\n",
        "        messages=[\n",
        "            {\"role\": \"system\", \"content\": \"You are a data validation expert.\"},\n",
        "            {\"role\": \"user\", \"content\": question}\n",
        "        ]\n",
        "    )\n",
        "    return completion[\"choices\"][0][\"message\"][\"content\"]"
      ]
    },
    {
      "cell_type": "code",
      "execution_count": null,
      "metadata": {
        "id": "HRozFadNtXO3"
      },
      "outputs": [],
      "source": [
        "# Example usage for one question\n",
        "cross_check_response = cross_checking_agent(questions[0])\n",
        "print(\"Cross-Checking Response:\", cross_check_response)"
      ]
    },
    {
      "cell_type": "code",
      "execution_count": 94,
      "metadata": {
        "id": "15tajXMJta9H"
      },
      "outputs": [],
      "source": [
        "# Consolidate responses from all agents into a single report\n",
        "def consolidate_reports(web_response, institutional_response):\n",
        "  prompt = f\"\"\"\n",
        "    Your role is to summarise reports from several experts to present to management.\n",
        "    Each expert tried to answer data-related questions provided below.\n",
        "    Please concisely summarise the experts' answers.\n",
        "\n",
        "    Web Research Results: {web_response}\n",
        "    Institutional Knowledge Results: {institutional_response}\n",
        "\n",
        "    \"\"\"\n",
        "  response = client.chat.completions.create(\n",
        "        model=\"gpt-4o\",\n",
        "        messages=[\n",
        "            {\"role\": \"system\", \"content\": \"You are a report consolidation expert.\"},\n",
        "            {\"role\": \"user\", \"content\": prompt}\n",
        "        ]\n",
        "    )\n",
        "  return response.choices[0].message.content"
      ]
    },
    {
      "cell_type": "code",
      "execution_count": 95,
      "metadata": {
        "colab": {
          "base_uri": "https://localhost:8080/"
        },
        "id": "w7ah6-Lmta5k",
        "outputId": "10a5e790-2153-4b2b-8396-75199e6e49dd"
      },
      "outputs": [
        {
          "name": "stdout",
          "output_type": "stream",
          "text": [
            "Final Consolidated Report:\n",
            "The decline in AAPL stock on February 27, 2020, is attributed to several interconnected factors:\n",
            "\n",
            "1. **Pandemic Impact:** The onset of the COVID-19 pandemic generated widespread market volatility and economic uncertainty, leading investors to fear a global economic slowdown.\n",
            "\n",
            "2. **Market-Wide Sell-Off:** A general sell-off in equity markets occurred as investors shifted towards safer assets, influenced by fears related to the pandemic's economic impact. This broader risk aversion also affected major indices, illustrating a widespread sentiment.\n",
            "\n",
            "3. **Apple’s Supply Chain Concerns:** Apple's significant reliance on its Chinese supply chain, which was disrupted due to lockdowns and production delays, further compounded investor anxiety over Apple's prospects.\n",
            "\n",
            "4. **Technical Factors:** The elevated volatility during this period led to technical indicators showing extreme conditions, possibly breaching key support levels and exacerbating selling pressure.\n",
            "\n",
            "5. **Broader Tech Sector Influence:** Being a leading tech company, Apple's stock performance was also a reflection of the broader tech sector trends, which faced similar supply chain and demand concerns.\n",
            "\n",
            "6. **Investor Sentiment:** The high levels of fear and uncertainty drove investors to liquidate positions in riskier assets, including tech stocks like Apple, contributing to the stock’s decline.\n",
            "\n",
            "Overall, the significant drop in AAPL stock was due to the early COVID-19 pandemic effects, intensified by technical and sentiment-driven factors, affecting both Apple and the broader market.\n",
            "\n"
          ]
        }
      ],
      "source": [
        "final_report = consolidate_reports(web_response, institutional_response)\n",
        "print(\"Final Consolidated Report:\")\n",
        "print(final_report)"
      ]
    },
    {
      "cell_type": "code",
      "execution_count": 97,
      "metadata": {
        "id": "ZRjE-n05tjpa"
      },
      "outputs": [],
      "source": [
        "# Simulate management discussion using another OpenAI API call\n",
        "def management_discussion(consolidated_report):\n",
        "    prompt = f\"\"\"\n",
        "    As a panel of management agents, please review and discuss the following consolidated report on S&P 500 Index anomalies.\n",
        "    Provide insights from financial market, macroeconomic, and statistical perspectives. Aim to reach a consensus on the report's findings and any necessary actions.\n",
        "    Lastly what decision you would take at this moment after analyzing the anomolies and resons behind it, you would invest or sell?\n",
        "    Consolidated Report: {consolidated_report}\n",
        "    \"\"\"\n",
        "\n",
        "    response = client.chat.completions.create(\n",
        "        model=\"gpt-4o\",\n",
        "        messages=[\n",
        "            {\"role\": \"system\", \"content\": \"You are a panel of management experts discussing a financial report.\"},\n",
        "            {\"role\": \"user\", \"content\": prompt}\n",
        "        ]\n",
        "    )\n",
        "    return response.choices[0].message.content"
      ]
    },
    {
      "cell_type": "code",
      "execution_count": 98,
      "metadata": {
        "colab": {
          "base_uri": "https://localhost:8080/"
        },
        "id": "kpp4XvcEtpxC",
        "outputId": "00fdf2a3-4a61-4c16-dd8a-68559cad27d5"
      },
      "outputs": [
        {
          "name": "stdout",
          "output_type": "stream",
          "text": [
            "Management Discussion Summary:\n",
            "**Financial Market Perspective:**\n",
            "\n",
            "The decline in AAPL stock on February 27, 2020, indicates a classic example of how external shocks, such as the COVID-19 pandemic, can trigger a broad market sell-off. This widespread sell-off was indicative of a shift to safer assets, a common investor reaction during risky periods. Apple's heavy reliance on a global supply chain—particularly its ties to China—left it vulnerable as the pandemic began, leading to heightened concerns about its ability to meet production demands.\n",
            "\n",
            "**Macroeconomic Perspective:**\n",
            "\n",
            "From a macroeconomic viewpoint, the pandemic's impact was unprecedented, introducing massive uncertainties regarding global growth and supply chain disruptions. As a major contributor to consumer electronics and technology innovation, Apple was hit hard by both demand and supply-side shocks. The early pandemic phase presented chokepoints that stymied not only individual corporations but had ripple effects across economies.\n",
            "\n",
            "**Statistical Perspective:**\n",
            "\n",
            "Statistically, the convergence of multiple risk indicators during this period likely marked significant breaches in technical trading levels. High volatility and the variation in stock movements suggest that several investors might have triggered stop-loss orders or other trading algorithms, exacerbating the sell-off. Additionally, correlations among tech stocks suggest a sector-wide impact, as investors applied a broad brush, impacting related stocks and indices alike.\n",
            "\n",
            "**Consensus Discussion:**\n",
            "\n",
            "Collectively, it is evident that the decline in AAPL was influenced by a combination of global-scale macroeconomic uncertainties and sector-specific technical factors. Given the extraordinary nature of the pandemic, the market's reaction was severe but not altogether unexpected.\n",
            "\n",
            "**Investment Decision:**\n",
            "\n",
            "Considering the broader analysis, if we were positioned in February 2020, our decision might have been to hold rather than sell, recognizing the potential for a swift market recovery post-pandemic once supply chains adjusted. However, given current insights in hindsight, we would also recommend a diversified approach. This includes ensuring a well-rounded portfolio that can weather such volatile periods without over-reliance on any single sector. Moving forward, it would be prudent to invest cautiously, focusing on companies with robust supply chains and adjusting exposure to encompass other industries less affected by similar shocks.\n"
          ]
        }
      ],
      "source": [
        "management_summary = management_discussion(final_report)\n",
        "print(\"Management Discussion Summary:\")\n",
        "print(management_summary)"
      ]
    }
  ],
  "metadata": {
    "colab": {
      "provenance": []
    },
    "kernelspec": {
      "display_name": "Python 3",
      "name": "python3"
    },
    "language_info": {
      "name": "python"
    }
  },
  "nbformat": 4,
  "nbformat_minor": 0
}
